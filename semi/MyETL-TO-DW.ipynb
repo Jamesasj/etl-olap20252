{
 "cells": [
  {
   "cell_type": "code",
   "execution_count": null,
   "id": "9e0caff2",
   "metadata": {},
   "outputs": [],
   "source": [
    "import pandas as pd\n",
    "import json\n",
    "users = pd.read_csv('users-stg.csv')\n",
    "posts = pd.read_csv('posts-stg.csv') \n"
   ]
  },
  {
   "cell_type": "code",
   "execution_count": null,
   "id": "c8b44f47",
   "metadata": {},
   "outputs": [],
   "source": [
    "fpost = posts[['userId', 'id']]\n",
    "fpost['companyId'] = fpost['userId'].map(users.set_index('id')['company'])\n",
    "\n",
    "fpost['companyId'] = fpost['companyId'].apply(lambda c: hash(c['name')])\n"
   ]
  },
  {
   "cell_type": "code",
   "execution_count": null,
   "id": "a34e9d40",
   "metadata": {},
   "outputs": [],
   "source": [
    "duser = users[['id', 'name']]\n",
    "\n",
    "dcompany = users[['company']]\n",
    "\n",
    "dcompany = dcompany['company'].apply(pd.Series)[['name', 'catchPhrase', 'bs']]\n",
    "dcompany['id'] = hash(dcompany['name'])\n",
    "dcompany = dcompany.drop_duplicates(subset=['id'])"
   ]
  },
  {
   "cell_type": "code",
   "execution_count": null,
   "id": "a0ccff3b",
   "metadata": {},
   "outputs": [],
   "source": [
    "salvar(fpost)\n",
    "salvar(dcompany)\n",
    "salvar(duser)"
   ]
  }
 ],
 "metadata": {
  "kernelspec": {
   "display_name": ".venv",
   "language": "python",
   "name": "python3"
  },
  "language_info": {
   "codemirror_mode": {
    "name": "ipython",
    "version": 3
   },
   "file_extension": ".py",
   "mimetype": "text/x-python",
   "name": "python",
   "nbconvert_exporter": "python",
   "pygments_lexer": "ipython3",
   "version": "3.12.4"
  }
 },
 "nbformat": 4,
 "nbformat_minor": 5
}

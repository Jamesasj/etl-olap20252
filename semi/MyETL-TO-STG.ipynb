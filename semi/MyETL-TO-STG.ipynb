{
 "cells": [
  {
   "cell_type": "code",
   "execution_count": 5,
   "id": "0af2eec5",
   "metadata": {},
   "outputs": [],
   "source": [
    "import requests\n",
    "import json\n",
    "import pandas as pd\n",
    "\n",
    "res = requests.get('https://jsonplaceholder.typicode.com/users')\n",
    "data = json.loads(res.text)\n",
    "df = pd.DataFrame(data)\n",
    "df.to_csv('users-stg.csv', index=False)\n",
    "\n",
    "res = requests.get('https://jsonplaceholder.typicode.com/posts')\n",
    "data = json.loads(res.text)\n",
    "df = pd.DataFrame(data)\n",
    "df.to_csv('posts-stg.csv', index=False)\n",
    "\n"
   ]
  }
 ],
 "metadata": {
  "kernelspec": {
   "display_name": ".venv",
   "language": "python",
   "name": "python3"
  },
  "language_info": {
   "codemirror_mode": {
    "name": "ipython",
    "version": 3
   },
   "file_extension": ".py",
   "mimetype": "text/x-python",
   "name": "python",
   "nbconvert_exporter": "python",
   "pygments_lexer": "ipython3",
   "version": "3.12.4"
  }
 },
 "nbformat": 4,
 "nbformat_minor": 5
}

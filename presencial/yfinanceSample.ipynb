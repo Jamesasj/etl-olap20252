{
 "cells": [
  {
   "cell_type": "code",
   "execution_count": 4,
   "id": "f2d84503",
   "metadata": {},
   "outputs": [],
   "source": [
    "import yfinance\n",
    "\n",
    "hist = yfinance.Ticker(\"bbas3.sa\").history(period=\"365d\", interval=\"1d\")\n",
    "\n",
    "## guarda o arquivo csv\n",
    "hist.to_csv(\"bbas3.csv\")"
   ]
  }
 ],
 "metadata": {
  "kernelspec": {
   "display_name": ".venv",
   "language": "python",
   "name": "python3"
  },
  "language_info": {
   "codemirror_mode": {
    "name": "ipython",
    "version": 3
   },
   "file_extension": ".py",
   "mimetype": "text/x-python",
   "name": "python",
   "nbconvert_exporter": "python",
   "pygments_lexer": "ipython3",
   "version": "3.12.4"
  }
 },
 "nbformat": 4,
 "nbformat_minor": 5
}

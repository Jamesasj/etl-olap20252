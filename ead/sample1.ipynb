{
 "cells": [
  {
   "cell_type": "code",
   "execution_count": 10,
   "id": "06c29f74",
   "metadata": {},
   "outputs": [],
   "source": [
    "import requests\n",
    "import json\n",
    "import pandas as pd\n",
    "import psycopg2\n",
    "\n"
   ]
  },
  {
   "cell_type": "code",
   "execution_count": null,
   "id": "bd25420d",
   "metadata": {},
   "outputs": [
    {
     "data": {
      "application/vnd.microsoft.datawrangler.viewer.v0+json": {
       "columns": [
        {
         "name": "index",
         "rawType": "int64",
         "type": "integer"
        },
        {
         "name": "id",
         "rawType": "int64",
         "type": "integer"
        },
        {
         "name": "name",
         "rawType": "object",
         "type": "string"
        },
        {
         "name": "username",
         "rawType": "object",
         "type": "string"
        },
        {
         "name": "email",
         "rawType": "object",
         "type": "string"
        },
        {
         "name": "phone",
         "rawType": "object",
         "type": "string"
        },
        {
         "name": "website",
         "rawType": "object",
         "type": "string"
        }
       ],
       "ref": "379dfe58-a889-4081-8e8b-7163fc53fb87",
       "rows": [
        [
         "0",
         "1",
         "Leanne Graham",
         "Bret",
         "Sincere@april.biz",
         "1-770-736-8031 x56442",
         "hildegard.org"
        ],
        [
         "1",
         "2",
         "Ervin Howell",
         "Antonette",
         "Shanna@melissa.tv",
         "010-692-6593 x09125",
         "anastasia.net"
        ],
        [
         "2",
         "3",
         "Clementine Bauch",
         "Samantha",
         "Nathan@yesenia.net",
         "1-463-123-4447",
         "ramiro.info"
        ],
        [
         "3",
         "4",
         "Patricia Lebsack",
         "Karianne",
         "Julianne.OConner@kory.org",
         "493-170-9623 x156",
         "kale.biz"
        ],
        [
         "4",
         "5",
         "Chelsey Dietrich",
         "Kamren",
         "Lucio_Hettinger@annie.ca",
         "(254)954-1289",
         "demarco.info"
        ]
       ],
       "shape": {
        "columns": 6,
        "rows": 5
       }
      },
      "text/html": [
       "<div>\n",
       "<style scoped>\n",
       "    .dataframe tbody tr th:only-of-type {\n",
       "        vertical-align: middle;\n",
       "    }\n",
       "\n",
       "    .dataframe tbody tr th {\n",
       "        vertical-align: top;\n",
       "    }\n",
       "\n",
       "    .dataframe thead th {\n",
       "        text-align: right;\n",
       "    }\n",
       "</style>\n",
       "<table border=\"1\" class=\"dataframe\">\n",
       "  <thead>\n",
       "    <tr style=\"text-align: right;\">\n",
       "      <th></th>\n",
       "      <th>id</th>\n",
       "      <th>name</th>\n",
       "      <th>username</th>\n",
       "      <th>email</th>\n",
       "      <th>phone</th>\n",
       "      <th>website</th>\n",
       "    </tr>\n",
       "  </thead>\n",
       "  <tbody>\n",
       "    <tr>\n",
       "      <th>0</th>\n",
       "      <td>1</td>\n",
       "      <td>Leanne Graham</td>\n",
       "      <td>Bret</td>\n",
       "      <td>Sincere@april.biz</td>\n",
       "      <td>1-770-736-8031 x56442</td>\n",
       "      <td>hildegard.org</td>\n",
       "    </tr>\n",
       "    <tr>\n",
       "      <th>1</th>\n",
       "      <td>2</td>\n",
       "      <td>Ervin Howell</td>\n",
       "      <td>Antonette</td>\n",
       "      <td>Shanna@melissa.tv</td>\n",
       "      <td>010-692-6593 x09125</td>\n",
       "      <td>anastasia.net</td>\n",
       "    </tr>\n",
       "    <tr>\n",
       "      <th>2</th>\n",
       "      <td>3</td>\n",
       "      <td>Clementine Bauch</td>\n",
       "      <td>Samantha</td>\n",
       "      <td>Nathan@yesenia.net</td>\n",
       "      <td>1-463-123-4447</td>\n",
       "      <td>ramiro.info</td>\n",
       "    </tr>\n",
       "    <tr>\n",
       "      <th>3</th>\n",
       "      <td>4</td>\n",
       "      <td>Patricia Lebsack</td>\n",
       "      <td>Karianne</td>\n",
       "      <td>Julianne.OConner@kory.org</td>\n",
       "      <td>493-170-9623 x156</td>\n",
       "      <td>kale.biz</td>\n",
       "    </tr>\n",
       "    <tr>\n",
       "      <th>4</th>\n",
       "      <td>5</td>\n",
       "      <td>Chelsey Dietrich</td>\n",
       "      <td>Kamren</td>\n",
       "      <td>Lucio_Hettinger@annie.ca</td>\n",
       "      <td>(254)954-1289</td>\n",
       "      <td>demarco.info</td>\n",
       "    </tr>\n",
       "  </tbody>\n",
       "</table>\n",
       "</div>"
      ],
      "text/plain": [
       "   id              name   username                      email  \\\n",
       "0   1     Leanne Graham       Bret          Sincere@april.biz   \n",
       "1   2      Ervin Howell  Antonette          Shanna@melissa.tv   \n",
       "2   3  Clementine Bauch   Samantha         Nathan@yesenia.net   \n",
       "3   4  Patricia Lebsack   Karianne  Julianne.OConner@kory.org   \n",
       "4   5  Chelsey Dietrich     Kamren   Lucio_Hettinger@annie.ca   \n",
       "\n",
       "                   phone        website  \n",
       "0  1-770-736-8031 x56442  hildegard.org  \n",
       "1    010-692-6593 x09125  anastasia.net  \n",
       "2         1-463-123-4447    ramiro.info  \n",
       "3      493-170-9623 x156       kale.biz  \n",
       "4          (254)954-1289   demarco.info  "
      ]
     },
     "execution_count": 9,
     "metadata": {},
     "output_type": "execute_result"
    }
   ],
   "source": [
    "# ETL - Extract, Transform and Load\n",
    "\n",
    "# Extract : Extraindo uma informação do seu local de Origem\n",
    "\n",
    "# Faz uma requisição GET para a API do users do jsonplaceholder\n",
    "res = requests.get(\"https://jsonplaceholder.typicode.com/users\")\n",
    "data = res.json()\n",
    "data_df = pd.DataFrame(data)\n",
    "\n",
    "# Transform : Transformando a informação para o formato desejado ( remove colunas desnecessárias )\n",
    "data_df = data_df[[\"id\", \"name\", \"username\", \"email\", \"phone\", \"website\"]]\n",
    "data_df.head()"
   ]
  },
  {
   "cell_type": "code",
   "execution_count": 18,
   "id": "2254e5e6",
   "metadata": {},
   "outputs": [],
   "source": [
    "\n",
    "host = 'localhost'\n",
    "database = 'mydatabase'\n",
    "user = 'myuser'\n",
    "password = 'mypassword'\n",
    "port = '5432'\n",
    "\n",
    "conn = psycopg2.connect(\n",
    "    host=host,\n",
    "    database=database,\n",
    "    user=user,\n",
    "    password=password,\n",
    "    port=port\n",
    ")\n",
    "cur = conn.cursor()\n"
   ]
  },
  {
   "cell_type": "code",
   "execution_count": 12,
   "id": "7ceafa35",
   "metadata": {},
   "outputs": [],
   "source": [
    "cur.execute(\"\"\"\n",
    "    CREATE TABLE IF NOT EXISTS users (\n",
    "        id INTEGER PRIMARY KEY,\n",
    "        name TEXT,\n",
    "        username TEXT,\n",
    "        email TEXT,\n",
    "        phone TEXT,\n",
    "        website TEXT\n",
    "    )\n",
    "\"\"\")\n",
    "\n",
    "conn.commit()"
   ]
  },
  {
   "cell_type": "code",
   "execution_count": null,
   "id": "dd9b62b6",
   "metadata": {},
   "outputs": [],
   "source": [
    "# Load : Carregando a informação transformada para o local de destino ( banco de dados )\n",
    "\n",
    "for index, row in data_df.iterrows():\n",
    "    cur.execute(\"\"\"\n",
    "        INSERT INTO users (id, name, username, email, phone, website)\n",
    "        VALUES (%s, %s, %s, %s, %s, %s)\n",
    "        ON CONFLICT (id) DO NOTHING\n",
    "    \"\"\", (row['id'], row['name'], row['username'], row['email'], row['phone'], row['website']))\n",
    "    \n",
    "    conn.commit()"
   ]
  },
  {
   "cell_type": "code",
   "execution_count": 19,
   "id": "3aedd940",
   "metadata": {},
   "outputs": [
    {
     "name": "stdout",
     "output_type": "stream",
     "text": [
      "   id                      name          username                      email  \\\n",
      "0   1             Leanne Graham              Bret          Sincere@april.biz   \n",
      "1   2              Ervin Howell         Antonette          Shanna@melissa.tv   \n",
      "2   3          Clementine Bauch          Samantha         Nathan@yesenia.net   \n",
      "3   4          Patricia Lebsack          Karianne  Julianne.OConner@kory.org   \n",
      "4   5          Chelsey Dietrich            Kamren   Lucio_Hettinger@annie.ca   \n",
      "5   6      Mrs. Dennis Schulist  Leopoldo_Corkery    Karley_Dach@jasper.info   \n",
      "6   7           Kurtis Weissnat      Elwyn.Skiles     Telly.Hoeger@billy.biz   \n",
      "7   8  Nicholas Runolfsdottir V     Maxime_Nienow       Sherwood@rosamond.me   \n",
      "8   9           Glenna Reichert          Delphine    Chaim_McDermott@dana.io   \n",
      "9  10        Clementina DuBuque    Moriah.Stanton     Rey.Padberg@karina.biz   \n",
      "\n",
      "                   phone        website  \n",
      "0  1-770-736-8031 x56442  hildegard.org  \n",
      "1    010-692-6593 x09125  anastasia.net  \n",
      "2         1-463-123-4447    ramiro.info  \n",
      "3      493-170-9623 x156       kale.biz  \n",
      "4          (254)954-1289   demarco.info  \n",
      "5   1-477-935-8478 x6430        ola.org  \n",
      "6           210.067.6132       elvis.io  \n",
      "7      586.493.6943 x140   jacynthe.com  \n",
      "8   (775)976-6794 x41206     conrad.com  \n",
      "9           024-648-3804    ambrose.net  \n"
     ]
    },
    {
     "name": "stderr",
     "output_type": "stream",
     "text": [
      "C:\\Users\\James\\AppData\\Local\\Temp\\ipykernel_23424\\3150360745.py:1: UserWarning: pandas only supports SQLAlchemy connectable (engine/connection) or database string URI or sqlite3 DBAPI2 connection. Other DBAPI2 objects are not tested. Please consider using SQLAlchemy.\n",
      "  results = pd.read_sql(\"SELECT * FROM users\", conn)\n"
     ]
    }
   ],
   "source": [
    "results = pd.read_sql(\"SELECT * FROM users\", conn)\n",
    "print(results)"
   ]
  },
  {
   "cell_type": "code",
   "execution_count": 20,
   "id": "8e240d06",
   "metadata": {},
   "outputs": [],
   "source": [
    "cur.close()\n",
    "conn.close()"
   ]
  }
 ],
 "metadata": {
  "kernelspec": {
   "display_name": ".venv",
   "language": "python",
   "name": "python3"
  },
  "language_info": {
   "codemirror_mode": {
    "name": "ipython",
    "version": 3
   },
   "file_extension": ".py",
   "mimetype": "text/x-python",
   "name": "python",
   "nbconvert_exporter": "python",
   "pygments_lexer": "ipython3",
   "version": "3.12.3"
  }
 },
 "nbformat": 4,
 "nbformat_minor": 5
}
